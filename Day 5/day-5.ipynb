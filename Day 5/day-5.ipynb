{
 "cells": [
  {
   "cell_type": "code",
   "execution_count": 4,
   "metadata": {},
   "outputs": [
    {
     "name": "stdout",
     "output_type": "stream",
     "text": [
      "196167384\n"
     ]
    }
   ],
   "source": [
    "def parse_mapping_data(lines):\n",
    "    # Parses the mapping data from the lines.\n",
    "    mappings = []\n",
    "    i = 2\n",
    "    while i < len(lines):\n",
    "        current_map = []\n",
    "        i += 1\n",
    "        while i < len(lines) and lines[i] != \"\":\n",
    "            dst_start, src_start, range_length = map(int, lines[i].split())\n",
    "            current_map.append((dst_start, src_start, range_length))\n",
    "            i += 1\n",
    "        mappings.append(current_map)\n",
    "        i += 1\n",
    "    return mappings\n",
    "\n",
    "def find_location(seed, mappings):\n",
    "    # Finds the location number for a given seed.\n",
    "    current_number = seed\n",
    "    for mapping in mappings:\n",
    "        for dst_start, src_start, range_length in mapping:\n",
    "            if src_start <= current_number < src_start + range_length:\n",
    "                current_number = dst_start + (current_number - src_start)\n",
    "                break\n",
    "    return current_number\n",
    "\n",
    "# Reading the data from the file\n",
    "with open(\"raw.txt\") as raw:\n",
    "    lines = raw.read().strip().split(\"\\n\")\n",
    "\n",
    "# Parsing seeds and mappings\n",
    "seeds = list(map(int, lines[0].split(\" \")[1:]))\n",
    "mappings = parse_mapping_data(lines)\n",
    "\n",
    "# Finding locations for each seed and determining the minimum location\n",
    "locations = [find_location(seed, mappings) for seed in seeds]\n",
    "print(min(locations))\n"
   ]
  },
  {
   "cell_type": "code",
   "execution_count": 6,
   "metadata": {},
   "outputs": [
    {
     "name": "stdout",
     "output_type": "stream",
     "text": [
      "125742456\n"
     ]
    }
   ],
   "source": [
    "def parse_seed_pairs(lines):\n",
    "    \"\"\"Parses seed pairs from the first line of the file.\"\"\"\n",
    "    raw_seeds = list(map(int, lines[0].split(\" \")[1:]))\n",
    "    return [(raw_seeds[i], raw_seeds[i + 1]) for i in range(0, len(raw_seeds), 2)]\n",
    "\n",
    "def parse_mappings(lines):\n",
    "    \"\"\"Parses mapping data from the file lines.\"\"\"\n",
    "    mappings = []\n",
    "    i = 2\n",
    "    while i < len(lines):\n",
    "        _, _, _ = lines[i].split(\" \")[0].split(\"-\")  # Extracting category names (unused)\n",
    "        mapping = []\n",
    "        i += 1\n",
    "        while i < len(lines) and lines[i] != \"\":\n",
    "            dst_start, src_start, range_len = map(int, lines[i].split())\n",
    "            mapping.append((dst_start, src_start, range_len))\n",
    "            i += 1\n",
    "        mapping.sort(key=lambda x: x[1])\n",
    "        mappings.append(mapping)\n",
    "        i += 1\n",
    "    return mappings\n",
    "\n",
    "def remap_interval(lo, hi, mapping):\n",
    "    \"\"\"Remaps an interval (lo, hi) using a given mapping.\"\"\"\n",
    "    remapped = []\n",
    "    for dst, src, length in mapping:\n",
    "        end = src + length - 1\n",
    "        shift = dst - src\n",
    "        if not (end < lo or src > hi):\n",
    "            remapped.append((max(src, lo), min(end, hi), shift))\n",
    "\n",
    "    for i, (l, r, shift) in enumerate(remapped):\n",
    "        yield (l + shift, r + shift)\n",
    "        if i < len(remapped) - 1 and remapped[i+1][0] > r + 1:\n",
    "            yield (r + 1, remapped[i+1][0] - 1)\n",
    "\n",
    "    if len(remapped) == 0:\n",
    "        yield (lo, hi)\n",
    "    elif remapped[0][0] != lo:\n",
    "        yield (lo, remapped[0][0] - 1)\n",
    "    elif remapped[-1][1] != hi:\n",
    "        yield (remapped[-1][1] + 1, hi)\n",
    "\n",
    "# Reading data from the file\n",
    "with open(\"raw.txt\") as raw:\n",
    "    lines = raw.read().strip().split(\"\\n\")\n",
    "\n",
    "# Parsing seeds and mappings\n",
    "seeds = parse_seed_pairs(lines)\n",
    "mappings = parse_mappings(lines)\n",
    "\n",
    "# Finding minimum location\n",
    "min_location = float('inf')\n",
    "for start, range_len in seeds:\n",
    "    current_intervals = [(start, start + range_len - 1)]\n",
    "    for mapping in mappings:\n",
    "        new_intervals = [new_interval for lo, hi in current_intervals for new_interval in remap_interval(lo, hi, mapping)]\n",
    "        current_intervals = new_intervals\n",
    "    min_location = min(min_location, min(lo for lo, hi in current_intervals))\n",
    "\n",
    "print(min_location)\n"
   ]
  }
 ],
 "metadata": {
  "kernelspec": {
   "display_name": "Python 3",
   "language": "python",
   "name": "python3"
  },
  "language_info": {
   "codemirror_mode": {
    "name": "ipython",
    "version": 3
   },
   "file_extension": ".py",
   "mimetype": "text/x-python",
   "name": "python",
   "nbconvert_exporter": "python",
   "pygments_lexer": "ipython3",
   "version": "3.11.3"
  }
 },
 "nbformat": 4,
 "nbformat_minor": 2
}
