{
 "cells": [
  {
   "cell_type": "code",
   "execution_count": 3,
   "metadata": {},
   "outputs": [
    {
     "data": {
      "text/plain": [
       "['Time:        56     97     77     93',\n",
       " 'Distance:   499   2210   1097   1440']"
      ]
     },
     "execution_count": 3,
     "metadata": {},
     "output_type": "execute_result"
    }
   ],
   "source": [
    "with open(\"./raw.txt\") as raw:\n",
    "    lines = raw.read().strip().split(\"\\n\")\n",
    "\n",
    "lines"
   ]
  },
  {
   "cell_type": "markdown",
   "metadata": {},
   "source": [
    "### Part I"
   ]
  },
  {
   "cell_type": "code",
   "execution_count": 6,
   "metadata": {},
   "outputs": [
    {
     "data": {
      "text/plain": [
       "([56, 97, 77, 93], [499, 2210, 1097, 1440])"
      ]
     },
     "execution_count": 6,
     "metadata": {},
     "output_type": "execute_result"
    }
   ],
   "source": [
    "times = list(map(int, lines[0].split()[1:]))\n",
    "dists = list(map(int, lines[1].split()[1:]))\n",
    "\n",
    "times, dists"
   ]
  },
  {
   "cell_type": "code",
   "execution_count": 10,
   "metadata": {},
   "outputs": [],
   "source": [
    "def winning_strategies(t, d):\n",
    "    count = 0\n",
    "    for i in range(t):\n",
    "        # Hold down for i seconds\n",
    "        if (t - i) * i > d:\n",
    "            count += 1\n",
    "\n",
    "    return count"
   ]
  },
  {
   "cell_type": "code",
   "execution_count": 19,
   "metadata": {},
   "outputs": [
    {
     "data": {
      "text/plain": [
       "1710720"
      ]
     },
     "execution_count": 19,
     "metadata": {},
     "output_type": "execute_result"
    }
   ],
   "source": [
    "import numpy as np\n",
    "answer = []\n",
    "for t, d in zip(times, dists):\n",
    "    answer.append(winning_strategies(t, d))\n",
    "\n",
    "\n",
    "p = np.prod(answer)\n",
    "p"
   ]
  },
  {
   "cell_type": "markdown",
   "metadata": {},
   "source": [
    "### Part II"
   ]
  },
  {
   "cell_type": "code",
   "execution_count": 24,
   "metadata": {},
   "outputs": [
    {
     "data": {
      "text/plain": [
       "['Time:        56     97     77     93',\n",
       " 'Distance:   499   2210   1097   1440']"
      ]
     },
     "execution_count": 24,
     "metadata": {},
     "output_type": "execute_result"
    }
   ],
   "source": [
    "with open(\"./raw.txt\") as raw2:\n",
    "    lines2 = raw2.read().strip().split(\"\\n\")\n",
    "\n",
    "lines2"
   ]
  },
  {
   "cell_type": "code",
   "execution_count": 25,
   "metadata": {},
   "outputs": [
    {
     "name": "stdout",
     "output_type": "stream",
     "text": [
      "35349468\n"
     ]
    }
   ],
   "source": [
    "time = int(\"\".join(lines2[0].split()[1:]))\n",
    "distance = int(\"\".join(lines2[1].split()[1:]))\n",
    "\n",
    "print (winning_strategies(time, distance))"
   ]
  }
 ],
 "metadata": {
  "kernelspec": {
   "display_name": "Python 3",
   "language": "python",
   "name": "python3"
  },
  "language_info": {
   "codemirror_mode": {
    "name": "ipython",
    "version": 3
   },
   "file_extension": ".py",
   "mimetype": "text/x-python",
   "name": "python",
   "nbconvert_exporter": "python",
   "pygments_lexer": "ipython3",
   "version": "3.11.3"
  }
 },
 "nbformat": 4,
 "nbformat_minor": 2
}
