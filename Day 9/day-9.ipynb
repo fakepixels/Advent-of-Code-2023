{
 "cells": [
  {
   "cell_type": "code",
   "execution_count": 2,
   "metadata": {},
   "outputs": [],
   "source": [
    "with open(\"./raw.txt\") as raw:\n",
    "    lines = raw.read().strip().split(\"\\n\")"
   ]
  },
  {
   "cell_type": "code",
   "execution_count": 6,
   "metadata": {},
   "outputs": [
    {
     "data": {
      "text/plain": [
       "1834108701"
      ]
     },
     "execution_count": 6,
     "metadata": {},
     "output_type": "execute_result"
    }
   ],
   "source": [
    "def diff(arr):\n",
    "    return [arr[i+1] - arr[i] for i in range(len(arr) - 1)]\n",
    "\n",
    "def extrapolate(hist):\n",
    "    layers = [hist]\n",
    "    while layers[-1] and layers[-1][-1] != 0:\n",
    "        layers.append(diff(layers[-1]))\n",
    "\n",
    "    layers[-1].append(0)\n",
    "    for i in range(len(layers) - 2, -1, -1):\n",
    "        layers[i].append(layers[i][-1] + layers[i+1][-1])\n",
    "\n",
    "    return layers[0][-1]\n",
    "\n",
    "final = sum(extrapolate(list(map(int, line.split()))) for line in lines)\n",
    "final"
   ]
  },
  {
   "cell_type": "markdown",
   "metadata": {},
   "source": [
    "### Part II"
   ]
  },
  {
   "cell_type": "code",
   "execution_count": 7,
   "metadata": {},
   "outputs": [
    {
     "name": "stdout",
     "output_type": "stream",
     "text": [
      "993\n"
     ]
    }
   ],
   "source": [
    "def extrapolate(hist):\n",
    "    layers = [hist]\n",
    "\n",
    "    while not all([x == 0 for x in layers[-1]]):\n",
    "        layers.append(diff(layers[-1]))\n",
    "\n",
    "    layers[-1].append(0)\n",
    "    for i in range(len(layers) - 2, -1, -1):\n",
    "        layers[i].append(layers[i][-1] + layers[i+1][-1])\n",
    "\n",
    "    return layers[0][-1]\n",
    "\n",
    "\n",
    "final = []\n",
    "for line in lines:\n",
    "    arr = list(map(int, line.split()[::-1]))\n",
    "    final.append(extrapolate(arr))\n",
    "\n",
    "print(sum(final))"
   ]
  },
  {
   "cell_type": "code",
   "execution_count": null,
   "metadata": {},
   "outputs": [],
   "source": []
  }
 ],
 "metadata": {
  "kernelspec": {
   "display_name": "Python 3",
   "language": "python",
   "name": "python3"
  },
  "language_info": {
   "codemirror_mode": {
    "name": "ipython",
    "version": 3
   },
   "file_extension": ".py",
   "mimetype": "text/x-python",
   "name": "python",
   "nbconvert_exporter": "python",
   "pygments_lexer": "ipython3",
   "version": "3.11.3"
  }
 },
 "nbformat": 4,
 "nbformat_minor": 2
}
