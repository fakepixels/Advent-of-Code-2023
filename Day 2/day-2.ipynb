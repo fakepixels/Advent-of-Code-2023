{
 "cells": [
  {
   "cell_type": "markdown",
   "metadata": {},
   "source": [
    "## Preparation"
   ]
  },
  {
   "cell_type": "code",
   "execution_count": 12,
   "metadata": {},
   "outputs": [],
   "source": [
    "file = open(\"games_data.txt\", \"r\")\n",
    "input = file.read()\n",
    "games_data = input.split('\\n')"
   ]
  },
  {
   "cell_type": "code",
   "execution_count": 13,
   "metadata": {},
   "outputs": [
    {
     "name": "stdout",
     "output_type": "stream",
     "text": [
      "['Game 1: 3 blue, 4 red; 1 red, 2 green, 6 blue; 2 green', 'Game 2: 1 blue, 2 green; 3 green, 4 blue, 1 red; 1 green, 1 blue', 'Game 3: 8 green, 6 blue, 20 red; 5 blue, 4 red, 13 green; 5 green, 1 red', 'Game 4: 1 green, 3 red, 6 blue; 3 green, 6 red; 3 green, 15 blue, 14 red', 'Game 5: 6 red, 1 blue, 3 green; 2 blue, 1 red, 2 green']\n"
     ]
    }
   ],
   "source": [
    "print(games_data)"
   ]
  },
  {
   "cell_type": "markdown",
   "metadata": {},
   "source": [
    "## Part I"
   ]
  },
  {
   "cell_type": "code",
   "execution_count": 16,
   "metadata": {},
   "outputs": [
    {
     "data": {
      "text/plain": [
       "8"
      ]
     },
     "execution_count": 16,
     "metadata": {},
     "output_type": "execute_result"
    }
   ],
   "source": [
    "def parse_game_data(game):\n",
    "    parts = game.split(\": \")\n",
    "    game_id = int(parts[0].split()[1])\n",
    "    rounds = parts[1].split(\"; \")\n",
    "\n",
    "    cube_counts = {\"red\": [], \"green\": [], \"blue\": []}\n",
    "    for round in rounds:\n",
    "        cubes = round.split(\", \")\n",
    "        for cube in cubes:\n",
    "            count, color = cube.split()\n",
    "            cube_counts[color].append(int(count))\n",
    "    return game_id, cube_counts\n",
    "\n",
    "# Check if a game is possible with the given cube counts\n",
    "def is_game_possible(game_data, max_red, max_green, max_blue):\n",
    "    game_id, cube_counts = game_data\n",
    "    for color, counts in cube_counts.items():\n",
    "        if color == \"red\" and max(counts) > max_red: return False\n",
    "        if color == \"green\" and max(counts) > max_green: return False\n",
    "        if color == \"blue\" and max(counts) > max_blue: return False\n",
    "    return True\n",
    "    \n",
    "\n",
    "# Max number of cubes of each color\n",
    "max_red = 12\n",
    "max_green = 13\n",
    "max_blue = 14\n",
    "\n",
    "# Determine which games are possible\n",
    "possible_games = []\n",
    "for game in games_data:\n",
    "    game_data = parse_game_data(game)\n",
    "    if is_game_possible(game_data, max_red, max_green, max_blue):\n",
    "        possible_games.append(game_data[0])\n",
    "\n",
    "# Calculate the sum of the IDs of the possible games\n",
    "sum_possible_games = sum(possible_games)\n",
    "sum_possible_games"
   ]
  },
  {
   "cell_type": "markdown",
   "metadata": {},
   "source": [
    "## Part two"
   ]
  },
  {
   "cell_type": "code",
   "execution_count": 18,
   "metadata": {},
   "outputs": [
    {
     "data": {
      "text/plain": [
       "2286"
      ]
     },
     "execution_count": 18,
     "metadata": {},
     "output_type": "execute_result"
    }
   ],
   "source": [
    "def calculate_minimum_cubes(game):\n",
    "    parts = game.split(\": \")\n",
    "    game_id = int(parts[0].split()[1])\n",
    "    rounds = parts[1].split(\"; \")\n",
    "\n",
    "#Initialize the minimum cubes to 0\n",
    "    min_red, min_green, min_blue = 0, 0, 0\n",
    "    for round in rounds:\n",
    "        red, green, blue = 0, 0, 0\n",
    "        cubes = round.split(\", \")\n",
    "        # a for loop \n",
    "        for cube in cubes:\n",
    "            count, color = cube.split()\n",
    "            if color == \"red\":\n",
    "                red = int(count)\n",
    "            elif color == \"green\":\n",
    "                green = int(count)\n",
    "            elif color == \"blue\":\n",
    "                blue = int(count)\n",
    "        min_red = max(min_red, red)\n",
    "        min_green = max(min_green, green)\n",
    "        min_blue = max(min_blue, blue)\n",
    "    \n",
    "    return min_red, min_green, min_blue\n",
    "\n",
    "# Calculate the power of a set of cubes\n",
    "def calculate_power(red, green, blue):\n",
    "    return red * green * blue\n",
    "\n",
    "# Minimum cubes and their powers for each game\n",
    "total_power = 0\n",
    "for game in games_data:\n",
    "    min_red, min_green, min_blue = calculate_minimum_cubes(game)\n",
    "    power = calculate_power(min_red, min_green, min_blue)\n",
    "    total_power += power\n",
    "\n",
    "total_power"
   ]
  }
 ],
 "metadata": {
  "kernelspec": {
   "display_name": "Python 3",
   "language": "python",
   "name": "python3"
  },
  "language_info": {
   "codemirror_mode": {
    "name": "ipython",
    "version": 3
   },
   "file_extension": ".py",
   "mimetype": "text/x-python",
   "name": "python",
   "nbconvert_exporter": "python",
   "pygments_lexer": "ipython3",
   "version": "3.11.3"
  }
 },
 "nbformat": 4,
 "nbformat_minor": 2
}
