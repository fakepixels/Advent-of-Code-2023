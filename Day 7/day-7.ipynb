{
 "cells": [
  {
   "cell_type": "code",
   "execution_count": 2,
   "metadata": {},
   "outputs": [],
   "source": [
    "from functools import cmp_to_key\n",
    "from collections import defaultdict"
   ]
  },
  {
   "cell_type": "code",
   "execution_count": 3,
   "metadata": {},
   "outputs": [],
   "source": [
    "with open(\"./raw.txt\") as raw:\n",
    "    raw_lines = raw.read().strip().split(\"\\n\")"
   ]
  },
  {
   "cell_type": "code",
   "execution_count": 14,
   "metadata": {},
   "outputs": [],
   "source": [
    "labels = [\"2\", \"3\", \"4\", \"5\", \"6\", \"7\", \"8\", \"9\", \"10\", \"J\", \"Q\", \"K\", \"A\"]\n"
   ]
  },
  {
   "cell_type": "code",
   "execution_count": 15,
   "metadata": {},
   "outputs": [],
   "source": [
    "def evaluate_hand(card_hand):\n",
    "    card_count = defaultdict(int)\n",
    "    for card in card_hand:\n",
    "        card_count[card] += 1\n",
    "\n",
    "    sorted_counts = sorted(card_count.values())\n",
    "    hand_types = {\n",
    "        (5,): 5, \n",
    "        (1, 4): 4, \n",
    "        (2, 3): 3.5, \n",
    "        (1, 1, 3): 3, \n",
    "        (1, 2, 2): 2.5, \n",
    "        (1, 1, 1, 2): 2\n",
    "    }\n",
    "\n",
    "    return hand_types.get(tuple(sorted_counts), 1)"
   ]
  },
  {
   "cell_type": "code",
   "execution_count": 16,
   "metadata": {},
   "outputs": [
    {
     "ename": "ValueError",
     "evalue": "'555A5' is not in list",
     "output_type": "error",
     "traceback": [
      "\u001b[0;31m---------------------------------------------------------------------------\u001b[0m",
      "\u001b[0;31mValueError\u001b[0m                                Traceback (most recent call last)",
      "Cell \u001b[0;32mIn[16], line 21\u001b[0m\n\u001b[1;32m     18\u001b[0m     parts \u001b[38;5;241m=\u001b[39m line\u001b[38;5;241m.\u001b[39msplit()\n\u001b[1;32m     19\u001b[0m     processed_lines\u001b[38;5;241m.\u001b[39mappend((parts[\u001b[38;5;241m0\u001b[39m], \u001b[38;5;28mint\u001b[39m(parts[\u001b[38;5;241m1\u001b[39m])))\n\u001b[0;32m---> 21\u001b[0m sorted_lines \u001b[38;5;241m=\u001b[39m \u001b[38;5;28;43msorted\u001b[39;49m\u001b[43m(\u001b[49m\u001b[43mprocessed_lines\u001b[49m\u001b[43m,\u001b[49m\u001b[43m \u001b[49m\u001b[43mkey\u001b[49m\u001b[38;5;241;43m=\u001b[39;49m\u001b[43mcmp_to_key\u001b[49m\u001b[43m(\u001b[49m\u001b[43mcompare_hands\u001b[49m\u001b[43m)\u001b[49m\u001b[43m)\u001b[49m\n\u001b[1;32m     22\u001b[0m total_score \u001b[38;5;241m=\u001b[39m \u001b[38;5;28msum\u001b[39m((i \u001b[38;5;241m+\u001b[39m \u001b[38;5;241m1\u001b[39m) \u001b[38;5;241m*\u001b[39m line[\u001b[38;5;241m1\u001b[39m] \u001b[38;5;28;01mfor\u001b[39;00m i, line \u001b[38;5;129;01min\u001b[39;00m \u001b[38;5;28menumerate\u001b[39m(sorted_lines))\n\u001b[1;32m     24\u001b[0m \u001b[38;5;28mprint\u001b[39m(total_score)\n",
      "Cell \u001b[0;32mIn[16], line 9\u001b[0m, in \u001b[0;36mcompare_hands\u001b[0;34m(hand1, hand2)\u001b[0m\n\u001b[1;32m      7\u001b[0m     \u001b[38;5;28;01mreturn\u001b[39;00m \u001b[38;5;241m0\u001b[39m\n\u001b[1;32m      8\u001b[0m \u001b[38;5;28;01mfor\u001b[39;00m card1, card2 \u001b[38;5;129;01min\u001b[39;00m \u001b[38;5;28mzip\u001b[39m(hand1, hand2):\n\u001b[0;32m----> 9\u001b[0m     \u001b[38;5;28;01mif\u001b[39;00m \u001b[43mlabels\u001b[49m\u001b[38;5;241;43m.\u001b[39;49m\u001b[43mindex\u001b[49m\u001b[43m(\u001b[49m\u001b[43mcard1\u001b[49m\u001b[43m)\u001b[49m \u001b[38;5;241m<\u001b[39m labels\u001b[38;5;241m.\u001b[39mindex(card2):\n\u001b[1;32m     10\u001b[0m         \u001b[38;5;28;01mreturn\u001b[39;00m \u001b[38;5;241m1\u001b[39m\n\u001b[1;32m     11\u001b[0m     \u001b[38;5;28;01mif\u001b[39;00m labels\u001b[38;5;241m.\u001b[39mindex(card1) \u001b[38;5;241m>\u001b[39m labels\u001b[38;5;241m.\u001b[39mindex(card2):\n",
      "\u001b[0;31mValueError\u001b[0m: '555A5' is not in list"
     ]
    }
   ],
   "source": [
    "def compare_hands(hand1, hand2):\n",
    "    rank_hand1 = (evaluate_hand(hand1), hand1)\n",
    "    rank_hand2 = (evaluate_hand(hand2), hand2)\n",
    "\n",
    "    if rank_hand1[0] == rank_hand2[0]:\n",
    "        if hand1 == hand2:\n",
    "            return 0\n",
    "        for card1, card2 in zip(hand1, hand2):\n",
    "            if labels.index(card1) < labels.index(card2):\n",
    "                return 1\n",
    "            if labels.index(card1) > labels.index(card2):\n",
    "                return -1\n",
    "        return -1\n",
    "    return 1 if rank_hand1[0] > rank_hand2[0] else -1\n",
    "\n",
    "processed_lines = []\n",
    "for line in raw_lines:\n",
    "    parts = line.split()\n",
    "    processed_lines.append((parts[0], int(parts[1])))\n",
    "\n",
    "sorted_lines = sorted(processed_lines, key=cmp_to_key(compare_hands))\n",
    "total_score = sum((i + 1) * line[1] for i, line in enumerate(sorted_lines))\n",
    "\n",
    "print(total_score)"
   ]
  },
  {
   "cell_type": "code",
   "execution_count": null,
   "metadata": {},
   "outputs": [],
   "source": []
  }
 ],
 "metadata": {
  "kernelspec": {
   "display_name": "Python 3",
   "language": "python",
   "name": "python3"
  },
  "language_info": {
   "codemirror_mode": {
    "name": "ipython",
    "version": 3
   },
   "file_extension": ".py",
   "mimetype": "text/x-python",
   "name": "python",
   "nbconvert_exporter": "python",
   "pygments_lexer": "ipython3",
   "version": "3.11.3"
  }
 },
 "nbformat": 4,
 "nbformat_minor": 2
}
