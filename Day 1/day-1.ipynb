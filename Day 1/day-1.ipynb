{
 "cells": [
  {
   "cell_type": "code",
   "execution_count": 2,
   "metadata": {},
   "outputs": [
    {
     "name": "stdout",
     "output_type": "stream",
     "text": [
      "54388\n"
     ]
    }
   ],
   "source": [
    "file = open(\"file.txt\", \"r\")\n",
    "input = file.read()\n",
    "input_list = input.split('\\n')\n",
    "\n",
    "# part 1\n",
    "sum = 0 # create our sum integer\n",
    "for inp in input_list:\n",
    "    nums = [] # craate empty list that we will use to track all integers in list\n",
    "    for letter in inp: # loop through all letters in input line\n",
    "        if ord(letter) <= 57: # if unicode value of character is <=57, we know it's an integer\n",
    "            nums.append(letter) # append to our list of integer characters\n",
    "\n",
    "    # concat the first and last characters of our list and add their integer representation to our sum\n",
    "    sum += int(nums[0] + nums[-1])\n",
    "\n",
    "print(sum) # print solution to part 1"
   ]
  },
  {
   "cell_type": "code",
   "execution_count": 3,
   "metadata": {},
   "outputs": [
    {
     "name": "stdout",
     "output_type": "stream",
     "text": [
      "53515\n"
     ]
    }
   ],
   "source": [
    "# part 2\n",
    "sum = 0 # create our sum integer\n",
    "# create list of integers spelled-out in english\n",
    "integer_names = ['zero', 'one', 'two', 'three', 'four', 'five', 'six', 'seven', 'eight', 'nine']\n",
    "for inp in input_list:\n",
    "    nums = [] # craate empty list that we will use to track all integers in list\n",
    "    for i, letter in enumerate(inp): # loop through all letters in input line\n",
    "        for val, name in enumerate(integer_names): # loop through all spelled-out number options\n",
    "            if name in inp[i:i+len(name)]: # if the current spelled-out number we are looking for is found starting at index i, add it to our nums list\n",
    "                nums.append(str(val)) # append to our list of integer characters\n",
    "        if ord(letter) <= 57: # if unicode value of character is <=57, we know it's an integer\n",
    "            nums.append(letter) # append to our list of integer characters\n",
    "\n",
    "    # concat the first and last characters of our list and add their integer representation to our sum\n",
    "    sum += int(nums[0] + nums[-1])\n",
    "\n",
    "print(sum) # print solution to part 2"
   ]
  }
 ],
 "metadata": {
  "kernelspec": {
   "display_name": "Python 3",
   "language": "python",
   "name": "python3"
  },
  "language_info": {
   "codemirror_mode": {
    "name": "ipython",
    "version": 3
   },
   "file_extension": ".py",
   "mimetype": "text/x-python",
   "name": "python",
   "nbconvert_exporter": "python",
   "pygments_lexer": "ipython3",
   "version": "3.11.3"
  }
 },
 "nbformat": 4,
 "nbformat_minor": 2
}
